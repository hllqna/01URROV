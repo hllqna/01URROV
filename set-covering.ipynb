{
 "cells": [
  {
   "cell_type": "markdown",
   "metadata": {},
   "source": [
    "This solution is based on the material provided by Giovanni Squillero <giovanni.squillero@polito.it>\n",
    "https://github.com/squillero/computational-intelligence\n",
    "\n",
    "@Author: Natalia Lebedeva <s309608@studenti.polito.it>"
   ]
  },
  {
   "cell_type": "markdown",
   "metadata": {},
   "source": [
    "<h>A*</h>"
   ]
  },
  {
   "cell_type": "code",
   "execution_count": 16,
   "metadata": {},
   "outputs": [],
   "source": [
    "from random import random, randint\n",
    "from math import ceil\n",
    "from functools import reduce\n",
    "from collections import namedtuple, deque\n",
    "from queue import PriorityQueue\n",
    "\n",
    "import numpy as np\n",
    "from tqdm.auto import tqdm"
   ]
  },
  {
   "cell_type": "code",
   "execution_count": 6,
   "metadata": {},
   "outputs": [],
   "source": [
    "PROBLEM_SIZE = 20\n",
    "NUM_SETS = 40\n",
    "SETS = tuple(np.array([random() < 0.2 for _ in range(PROBLEM_SIZE)]) for _ in range(NUM_SETS))\n",
    "\n",
    "State = namedtuple('State', ['taken', 'not_taken'])\n",
    "\n",
    "def covered(state):\n",
    "    return reduce(\n",
    "        np.logical_or,\n",
    "        [SETS[i] for i in state.taken],\n",
    "        np.array([False for _ in range(PROBLEM_SIZE)]), #initial state when nothing is taken yet\n",
    "    )\n",
    "\n",
    "\n",
    "def goal_check(state):\n",
    "    return np.all(covered(state))\n",
    "\n",
    "assert goal_check(State(set(range(NUM_SETS)), set())), \"Problem not solvable\""
   ]
  },
  {
   "cell_type": "code",
   "execution_count": 7,
   "metadata": {},
   "outputs": [],
   "source": [
    "def h1(state):\n",
    "    ''' \n",
    "    Optimistically the number of sets needed to find the solution\n",
    "    is the number of still uncovered elements divided by the size of\n",
    "    the largest untaken set, rounded up to the closest integer\n",
    "    '''\n",
    "    largest_set_size = max(sum(s) for s in SETS)\n",
    "    missing_size = PROBLEM_SIZE - sum(covered(state))\n",
    "    optimistic_estimate = ceil(missing_size / largest_set_size)\n",
    "    return optimistic_estimate\n",
    "\n",
    "\n",
    "def h2(state):\n",
    "    '''\n",
    "    The size of an untaken set is defined only by the number of\n",
    "    elements inside that set which are not covered yet\n",
    "    '''\n",
    "    already_covered = covered(state)\n",
    "    if np.all(already_covered):\n",
    "        return 0\n",
    "    largest_set_size = max(sum(np.logical_and(s, np.logical_not(already_covered))) for s in SETS)\n",
    "    missing_size = PROBLEM_SIZE - sum(already_covered)\n",
    "    optimistic_estimate = ceil(missing_size / largest_set_size)\n",
    "    return optimistic_estimate\n",
    "\n",
    "\n",
    "def h3(state):\n",
    "    '''\n",
    "    The sizes of untaken elements are defined discarding the covered elements.\n",
    "    The untaken sets are sorted by size, and the optimistic estimate is \n",
    "    the minimal number of first N untaken sets, the sum of which sizes is \n",
    "    greater or equal to the number of uncovered elements\n",
    "    '''\n",
    "    already_covered = covered(state)\n",
    "    if np.all(already_covered):\n",
    "        return 0\n",
    "    missing_size = PROBLEM_SIZE - sum(already_covered)\n",
    "    candidates = sorted((sum(np.logical_and(s, np.logical_not(already_covered))) for s in SETS), reverse=True)\n",
    "    optimistic_estimate = 1\n",
    "    while sum(candidates[:optimistic_estimate]) < missing_size:\n",
    "        optimistic_estimate += 1\n",
    "    return optimistic_estimate\n"
   ]
  },
  {
   "cell_type": "code",
   "execution_count": 8,
   "metadata": {},
   "outputs": [
    {
     "data": {
      "application/vnd.jupyter.widget-view+json": {
       "model_id": "9ed9664d710f47799a0d9d2d8a7df06e",
       "version_major": 2,
       "version_minor": 0
      },
      "text/plain": [
       "0it [00:00, ?it/s]"
      ]
     },
     "metadata": {},
     "output_type": "display_data"
    },
    {
     "name": "stdout",
     "output_type": "stream",
     "text": [
      "Solved in 29,243 steps (5 tiles)\n",
      "State(taken={1, 37, 5, 24, 25}, not_taken={0, 2, 3, 4, 6, 7, 8, 9, 10, 11, 12, 13, 14, 15, 16, 17, 18, 19, 20, 21, 22, 23, 26, 27, 28, 29, 30, 31, 32, 33, 34, 35, 36, 38, 39})\n"
     ]
    }
   ],
   "source": [
    "def f(state):\n",
    "    return len(state.taken) + h1(state)\n",
    "\n",
    "frontier = PriorityQueue()\n",
    "state = State(set(), set(range(NUM_SETS)))\n",
    "frontier.put((f(state), state))\n",
    "\n",
    "counter = 0\n",
    "_, current_state = frontier.get()\n",
    "with tqdm(total=None) as pbar:\n",
    "    while not goal_check(current_state):\n",
    "        counter += 1\n",
    "        for action in current_state[1]:\n",
    "            new_state = State(\n",
    "                current_state.taken ^ {action},\n",
    "                current_state.not_taken ^ {action},\n",
    "            )\n",
    "            frontier.put((f(new_state), new_state))\n",
    "        _, current_state = frontier.get()\n",
    "        pbar.update(1)\n",
    "\n",
    "print(f\"Solved in {counter:,} steps ({len(current_state.taken)} tiles)\")\n",
    "print(current_state)"
   ]
  },
  {
   "cell_type": "code",
   "execution_count": 9,
   "metadata": {},
   "outputs": [
    {
     "data": {
      "application/vnd.jupyter.widget-view+json": {
       "model_id": "9561fbff560d4b41810b23644da9174e",
       "version_major": 2,
       "version_minor": 0
      },
      "text/plain": [
       "0it [00:00, ?it/s]"
      ]
     },
     "metadata": {},
     "output_type": "display_data"
    },
    {
     "name": "stdout",
     "output_type": "stream",
     "text": [
      "Solved in 1,763 steps (5 tiles)\n",
      "State(taken={32, 1, 34, 24, 27}, not_taken={0, 2, 3, 4, 5, 6, 7, 8, 9, 10, 11, 12, 13, 14, 15, 16, 17, 18, 19, 20, 21, 22, 23, 25, 26, 28, 29, 30, 31, 33, 35, 36, 37, 38, 39})\n"
     ]
    }
   ],
   "source": [
    "def f(state):\n",
    "    return len(state.taken) + h2(state)\n",
    "\n",
    "frontier = PriorityQueue()\n",
    "state = State(set(), set(range(NUM_SETS)))\n",
    "frontier.put((f(state), state))\n",
    "\n",
    "counter = 0\n",
    "_, current_state = frontier.get()\n",
    "with tqdm(total=None) as pbar:\n",
    "    while not goal_check(current_state):\n",
    "        counter += 1\n",
    "        for action in current_state[1]:\n",
    "            new_state = State(\n",
    "                current_state.taken ^ {action},\n",
    "                current_state.not_taken ^ {action},\n",
    "            )\n",
    "            frontier.put((f(new_state), new_state))\n",
    "        _, current_state = frontier.get()\n",
    "        pbar.update(1)\n",
    "\n",
    "print(f\"Solved in {counter:,} steps ({len(current_state.taken)} tiles)\")\n",
    "print(current_state)"
   ]
  },
  {
   "cell_type": "code",
   "execution_count": 10,
   "metadata": {},
   "outputs": [
    {
     "data": {
      "application/vnd.jupyter.widget-view+json": {
       "model_id": "bd3caccb3281489bbf7dd9da3cce04c1",
       "version_major": 2,
       "version_minor": 0
      },
      "text/plain": [
       "0it [00:00, ?it/s]"
      ]
     },
     "metadata": {},
     "output_type": "display_data"
    },
    {
     "name": "stdout",
     "output_type": "stream",
     "text": [
      "Solved in 901 steps (5 tiles)\n",
      "State(taken={1, 2, 5, 37, 22}, not_taken={0, 3, 4, 6, 7, 8, 9, 10, 11, 12, 13, 14, 15, 16, 17, 18, 19, 20, 21, 23, 24, 25, 26, 27, 28, 29, 30, 31, 32, 33, 34, 35, 36, 38, 39})\n"
     ]
    }
   ],
   "source": [
    "def f(state):\n",
    "    return len(state.taken) + h3(state)\n",
    "\n",
    "frontier = PriorityQueue()\n",
    "state = State(set(), set(range(NUM_SETS)))\n",
    "frontier.put((f(state), state))\n",
    "\n",
    "counter = 0\n",
    "_, current_state = frontier.get()\n",
    "with tqdm(total=None) as pbar:\n",
    "    while not goal_check(current_state):\n",
    "        counter += 1\n",
    "        for action in current_state[1]:\n",
    "            new_state = State(\n",
    "                current_state.taken ^ {action},\n",
    "                current_state.not_taken ^ {action},\n",
    "            )\n",
    "            frontier.put((f(new_state), new_state))\n",
    "        _, current_state = frontier.get()\n",
    "        pbar.update(1)\n",
    "\n",
    "print(f\"Solved in {counter:,} steps ({len(current_state.taken)} tiles)\")\n",
    "print(current_state)"
   ]
  },
  {
   "cell_type": "markdown",
   "metadata": {},
   "source": [
    "All variations of the algorithm find the optimal solution (5 tiles). <br>\n",
    "Exploring other possible options for the estimated cost h..."
   ]
  },
  {
   "cell_type": "code",
   "execution_count": 13,
   "metadata": {},
   "outputs": [
    {
     "data": {
      "application/vnd.jupyter.widget-view+json": {
       "model_id": "ee2ee133ce194d498937ce4e3a68a9b4",
       "version_major": 2,
       "version_minor": 0
      },
      "text/plain": [
       "0it [00:00, ?it/s]"
      ]
     },
     "metadata": {},
     "output_type": "display_data"
    },
    {
     "name": "stdout",
     "output_type": "stream",
     "text": [
      "Solved in 1,163 steps (5 tiles)\n",
      "State(taken={32, 1, 34, 3, 21}, not_taken={0, 2, 4, 5, 6, 7, 8, 9, 10, 11, 12, 13, 14, 15, 16, 17, 18, 19, 20, 22, 23, 24, 25, 26, 27, 28, 29, 30, 31, 33, 35, 36, 37, 38, 39})\n"
     ]
    }
   ],
   "source": [
    "def h4(state):\n",
    "    '''\n",
    "    The number of sets needed to find the solution \n",
    "    is the number of still uncovered elements divided by \n",
    "    the average size (rounded up to the closest integer)\n",
    "    of all untaken sets, rounded up to the closest integer\n",
    "    '''\n",
    "\n",
    "    already_covered = covered(state)\n",
    "    if np.all(already_covered):\n",
    "        return 0\n",
    "    avg_set_size = ceil(sum(sum(s) for s in SETS)/len(SETS))\n",
    "    missing_size = PROBLEM_SIZE - sum(covered(state))\n",
    "    optimistic_estimate = ceil(missing_size / avg_set_size)\n",
    "    return optimistic_estimate\n",
    "\n",
    "def f(state):\n",
    "    return len(state.taken) + h4(state)\n",
    "\n",
    "frontier = PriorityQueue()\n",
    "state = State(set(), set(range(NUM_SETS)))\n",
    "frontier.put((f(state), state))\n",
    "\n",
    "counter = 0\n",
    "_, current_state = frontier.get()\n",
    "with tqdm(total=None) as pbar:\n",
    "    while not goal_check(current_state):\n",
    "        counter += 1\n",
    "        for action in current_state[1]:\n",
    "            new_state = State(\n",
    "                current_state.taken ^ {action},\n",
    "                current_state.not_taken ^ {action},\n",
    "            )\n",
    "            frontier.put((f(new_state), new_state))\n",
    "        _, current_state = frontier.get()\n",
    "        pbar.update(1)\n",
    "\n",
    "print(f\"Solved in {counter:,} steps ({len(current_state.taken)} tiles)\")\n",
    "print(current_state)"
   ]
  },
  {
   "cell_type": "code",
   "execution_count": 12,
   "metadata": {},
   "outputs": [
    {
     "data": {
      "application/vnd.jupyter.widget-view+json": {
       "model_id": "d97a1c83df1a4cd0bb8b641d5ea430ed",
       "version_major": 2,
       "version_minor": 0
      },
      "text/plain": [
       "0it [00:00, ?it/s]"
      ]
     },
     "metadata": {},
     "output_type": "display_data"
    },
    {
     "name": "stdout",
     "output_type": "stream",
     "text": [
      "Solved in 22 steps (5 tiles)\n",
      "State(taken={1, 34, 3, 14, 18}, not_taken={0, 2, 4, 5, 6, 7, 8, 9, 10, 11, 12, 13, 15, 16, 17, 19, 20, 21, 22, 23, 24, 25, 26, 27, 28, 29, 30, 31, 32, 33, 35, 36, 37, 38, 39})\n"
     ]
    }
   ],
   "source": [
    "def h5(state):\n",
    "    '''\n",
    "    The size of an untaken set is defined only by the number of\n",
    "    elements inside that set which are not covered yet. Then the\n",
    "    number of sets needed equals to the number of still \n",
    "    uncovered elements divided by the average size of all untaken \n",
    "    sets, rounded up to the closest integer\n",
    "    '''\n",
    "    already_covered = covered(state)\n",
    "    if np.all(already_covered):\n",
    "        return 0\n",
    "    largest_set_size = ceil(sum(sum(np.logical_and(s, np.logical_not(already_covered))) for s in SETS)/len(SETS))\n",
    "    missing_size = PROBLEM_SIZE - sum(already_covered)\n",
    "    optimistic_estimate = ceil(missing_size / largest_set_size)\n",
    "    return optimistic_estimate\n",
    "\n",
    "def f(state):\n",
    "    return len(state.taken) + h5(state)\n",
    "\n",
    "frontier = PriorityQueue()\n",
    "state = State(set(), set(range(NUM_SETS)))\n",
    "frontier.put((f(state), state))\n",
    "\n",
    "counter = 0\n",
    "_, current_state = frontier.get()\n",
    "with tqdm(total=None) as pbar:\n",
    "    while not goal_check(current_state):\n",
    "        counter += 1\n",
    "        for action in current_state[1]:\n",
    "            new_state = State(\n",
    "                current_state.taken ^ {action},\n",
    "                current_state.not_taken ^ {action},\n",
    "            )\n",
    "            frontier.put((f(new_state), new_state))\n",
    "        _, current_state = frontier.get()\n",
    "        pbar.update(1)\n",
    "\n",
    "print(f\"Solved in {counter:,} steps ({len(current_state.taken)} tiles)\")\n",
    "print(current_state)"
   ]
  },
  {
   "cell_type": "markdown",
   "metadata": {},
   "source": [
    "The number of steps required for the same given problem: <br>\n",
    "\n",
    "| Heuristics | Number of steps|\n",
    "|------------|----------------|\n",
    "| h1         | 29,243         |\n",
    "| h2         | 1,763          |\n",
    "| h3         | 901            |\n",
    "| h4         | 1,163          |\n",
    "| h5         |  22            |\n",
    "\n",
    "<br>\n",
    "Heuristics h4 and h5 are modifications of h1 and h2.\n",
    "\n",
    "While the solution for the given problem was obtained in less steps, h4 and h5 in fact are not optimistic and are prone to overestimation, e.g. when the largest untaken set is able to cover the remaining elements, but there are many small untaken sets such that the average size of untaken sets is less than the size of the largest unteaken one."
   ]
  },
  {
   "cell_type": "markdown",
   "metadata": {},
   "source": [
    "<h2>Special sets case</h2>\n",
    "In this part, I'm trying to explore the possibilities of using A* algorithm with weighted sets (all weights are non-negative). The problem tranfsorms into multioptimization, when we try to minimize the number of taken sets while also minimizing the sum of the taken weights."
   ]
  },
  {
   "cell_type": "code",
   "execution_count": 54,
   "metadata": {},
   "outputs": [],
   "source": [
    "PROBLEM_SIZE = 8\n",
    "NUM_SETS = 30\n",
    "\n",
    "SetWeighted = namedtuple('SetWeighted', ['elements', 'weight'])\n",
    "#weight is assigned as a random non-negative integer value, not greater than the number of sets\n",
    "SETS = [SetWeighted(np.array([random() < 0.2 for _ in range(PROBLEM_SIZE)]), randint(0, NUM_SETS)) for _ in range(NUM_SETS)] \n",
    "\n",
    "State = namedtuple('State', ['taken', 'not_taken'])\n",
    "\n",
    "def covered(state):\n",
    "    elements_covered = np.zeros(PROBLEM_SIZE, dtype=bool)\n",
    "    for i in state.taken:\n",
    "        elements_covered = np.logical_or(elements_covered, SETS[i].elements)\n",
    "    return elements_covered\n",
    "    \n",
    "\n",
    "def goal_check(state):\n",
    "    return np.all(covered(state))\n",
    "\n",
    "assert goal_check(State(set(range(NUM_SETS)), set())), \"Problem not solvable\""
   ]
  },
  {
   "cell_type": "code",
   "execution_count": 55,
   "metadata": {},
   "outputs": [
    {
     "data": {
      "text/plain": [
       "[SetWeighted(elements=array([False, False, False,  True, False, False,  True, False]), weight=1),\n",
       " SetWeighted(elements=array([False, False, False, False, False,  True, False, False]), weight=30),\n",
       " SetWeighted(elements=array([False, False, False, False, False, False,  True, False]), weight=19),\n",
       " SetWeighted(elements=array([False, False, False, False, False, False, False, False]), weight=3),\n",
       " SetWeighted(elements=array([False, False,  True, False, False, False,  True,  True]), weight=17),\n",
       " SetWeighted(elements=array([False, False, False, False,  True, False, False,  True]), weight=5),\n",
       " SetWeighted(elements=array([False,  True, False, False, False,  True,  True, False]), weight=3),\n",
       " SetWeighted(elements=array([False,  True, False,  True,  True, False, False, False]), weight=14),\n",
       " SetWeighted(elements=array([False, False, False,  True, False,  True,  True,  True]), weight=10),\n",
       " SetWeighted(elements=array([ True,  True, False, False, False, False,  True,  True]), weight=30),\n",
       " SetWeighted(elements=array([ True, False,  True, False, False,  True, False,  True]), weight=16),\n",
       " SetWeighted(elements=array([ True, False, False, False, False, False, False,  True]), weight=6),\n",
       " SetWeighted(elements=array([False, False,  True, False, False, False,  True, False]), weight=6),\n",
       " SetWeighted(elements=array([False, False, False,  True,  True,  True,  True, False]), weight=24),\n",
       " SetWeighted(elements=array([False, False, False, False, False,  True, False, False]), weight=28),\n",
       " SetWeighted(elements=array([False, False, False, False,  True, False,  True, False]), weight=22),\n",
       " SetWeighted(elements=array([False, False, False, False, False, False, False, False]), weight=3),\n",
       " SetWeighted(elements=array([False, False, False, False, False, False, False, False]), weight=4),\n",
       " SetWeighted(elements=array([False, False, False, False, False, False, False,  True]), weight=1),\n",
       " SetWeighted(elements=array([False, False, False, False,  True, False, False, False]), weight=10),\n",
       " SetWeighted(elements=array([False, False,  True,  True, False, False, False,  True]), weight=4),\n",
       " SetWeighted(elements=array([ True, False, False, False, False, False, False, False]), weight=10),\n",
       " SetWeighted(elements=array([False,  True, False, False, False, False,  True, False]), weight=12),\n",
       " SetWeighted(elements=array([False,  True, False, False, False, False,  True, False]), weight=11),\n",
       " SetWeighted(elements=array([False, False, False,  True, False, False,  True, False]), weight=20),\n",
       " SetWeighted(elements=array([ True, False, False, False, False, False, False, False]), weight=1),\n",
       " SetWeighted(elements=array([ True, False, False, False, False, False,  True, False]), weight=10),\n",
       " SetWeighted(elements=array([False,  True, False, False, False, False, False, False]), weight=23),\n",
       " SetWeighted(elements=array([ True,  True, False, False, False, False, False,  True]), weight=11),\n",
       " SetWeighted(elements=array([False, False, False, False, False, False, False, False]), weight=14)]"
      ]
     },
     "execution_count": 55,
     "metadata": {},
     "output_type": "execute_result"
    }
   ],
   "source": [
    "SETS"
   ]
  },
  {
   "cell_type": "code",
   "execution_count": 56,
   "metadata": {},
   "outputs": [
    {
     "data": {
      "application/vnd.jupyter.widget-view+json": {
       "model_id": "7507b58badfc40ff878f1454369c2110",
       "version_major": 2,
       "version_minor": 0
      },
      "text/plain": [
       "0it [00:00, ?it/s]"
      ]
     },
     "metadata": {},
     "output_type": "display_data"
    },
    {
     "name": "stdout",
     "output_type": "stream",
     "text": [
      "Solved in 1,505 steps (4 tiles, weight: 13)\n",
      "State(taken={25, 20, 5, 6}, not_taken={0, 1, 2, 3, 4, 7, 8, 9, 10, 11, 12, 13, 14, 15, 16, 17, 18, 19, 21, 22, 23, 24, 26, 27, 28, 29})\n",
      "[SetWeighted(elements=array([ True, False, False, False, False, False, False, False]), weight=1), SetWeighted(elements=array([False, False,  True,  True, False, False, False,  True]), weight=4), SetWeighted(elements=array([False, False, False, False,  True, False, False,  True]), weight=5), SetWeighted(elements=array([False,  True, False, False, False,  True,  True, False]), weight=3)]\n"
     ]
    }
   ],
   "source": [
    "def h(state):\n",
    "    '''\n",
    "    The estimated cost is the minimal sum of weights of {missing_sets} sets,\n",
    "    where {missing_sets} is the result of division of the number of still\n",
    "    uncovered elements by the largest size of untaken set\n",
    "    while size is define as the number of uncovered elements contained in that set.\n",
    "    '''\n",
    "    already_covered = covered(state)\n",
    "    if np.all(already_covered):\n",
    "        return 0\n",
    "    \n",
    "    largest_set_size = max(sum(np.logical_and(s.elements, np.logical_not(already_covered))) for s in SETS)\n",
    "    missing_size = PROBLEM_SIZE - sum(already_covered)\n",
    "    missing_sets = ceil(missing_size / largest_set_size)\n",
    "\n",
    "    untaken_weights = [SETS[i].weight for i in state.not_taken if not np.all(already_covered)]\n",
    "    untaken_weights.sort() #ascending order to get the smaller weights first\n",
    "\n",
    "    optimistic_estimate = np.sum(untaken_weights[:missing_sets])\n",
    "\n",
    "\n",
    "    return optimistic_estimate\n",
    "\n",
    "\n",
    "def f(state):\n",
    "    # the actual cost is both the number of taken sets and the sum of their weights\n",
    "    return len(state.taken) + sum(SETS[i].weight for i in state.taken) + h(state)\n",
    "\n",
    "frontier = PriorityQueue()\n",
    "state = State(set(), set(range(NUM_SETS)))\n",
    "frontier.put((f(state), state))\n",
    "\n",
    "counter = 0\n",
    "_, current_state = frontier.get()\n",
    "with tqdm(total=None) as pbar:\n",
    "    while not goal_check(current_state):\n",
    "        counter += 1\n",
    "        for action in current_state[1]:\n",
    "            new_state = State(\n",
    "                current_state.taken ^ {action},\n",
    "                current_state.not_taken ^ {action},\n",
    "            )\n",
    "            frontier.put((f(new_state), new_state))\n",
    "        _, current_state = frontier.get()\n",
    "        pbar.update(1)\n",
    "\n",
    "print(f\"Solved in {counter:,} steps ({len(current_state.taken)} tiles, weight: {sum(SETS[i].weight for i in current_state.taken)})\")\n",
    "print(current_state)\n",
    "print([SETS[i] for i in current_state.taken])"
   ]
  },
  {
   "cell_type": "markdown",
   "metadata": {},
   "source": [
    "P.S. Thanks for the deadline given in AOE"
   ]
  }
 ],
 "metadata": {
  "kernelspec": {
   "display_name": "venv",
   "language": "python",
   "name": "python3"
  },
  "language_info": {
   "codemirror_mode": {
    "name": "ipython",
    "version": 3
   },
   "file_extension": ".py",
   "mimetype": "text/x-python",
   "name": "python",
   "nbconvert_exporter": "python",
   "pygments_lexer": "ipython3",
   "version": "3.12.0"
  }
 },
 "nbformat": 4,
 "nbformat_minor": 2
}
